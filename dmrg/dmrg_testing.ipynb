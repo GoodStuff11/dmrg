{
 "cells": [
  {
   "cell_type": "code",
   "execution_count": 1,
   "metadata": {},
   "outputs": [
    {
     "data": {
      "text/plain": [
       "create_Hamiltonian (generic function with 1 method)"
      ]
     },
     "metadata": {},
     "output_type": "display_data"
    }
   ],
   "source": [
    "using ITensors\n",
    "using ITensorNetworks\n",
    "using Graphs\n",
    "using Observers\n",
    "using Printf\n",
    "# using ITensors.HDF5\n",
    "using TupleTools\n",
    "import Random\n",
    "\n",
    "# using PyPlot\n",
    "# push!(LOAD_PATH,pwd())\n",
    "include(\"input_data.jl\")\n",
    "include(\"matrices.jl\")\n",
    "include(\"states.jl\")\n",
    "include(\"expectations.jl\")\n",
    "include(\"dvr.jl\")\n",
    "include(\"utility_funcs.jl\")\n",
    "\n",
    "\n",
    "mmax, Nsites, Nbonds, Nsweep, e_cutoff, \n",
    "\t\tSVD_error, gstart, delta_g, Ng,\n",
    "        mbond, pairs, evod, angle, Estrength, \n",
    "\t\tNstates, output_filename, parity_symmetry_type,\n",
    "\t\tinversion_symmetry_type = get_input_data(\"input_quick.yml\"; default_filename=\"psi0_N6_g\")\n",
    "\n",
    "###{tdvp_filename}.h5 will be where the data is stored (written to on the fly while propagating every 5th sweep by default)\n",
    "###ToDo: we might want to parse the name for that file from input\n",
    "\n",
    "#Calculate kinetic matrix and x operator#\n",
    "Ttmp = kinetic(mmax)\n",
    "Xtmp = Xoperator(mmax)\n",
    "Ytmp = Yoperator(mmax)\n",
    "Uptmp = Upoperator(mmax)\n",
    "Downtmp = Downoperator(mmax)\n",
    "mInverttmp = MInversionOperator(mmax)\n",
    "SmallEProjtmp = SmallEnergyProjector(mmax; m=1)\n",
    "\n",
    "use_parity_symmetry = (parity_symmetry_type == \"even\" || parity_symmetry_type == \"odd\")\n",
    "if use_parity_symmetry\n",
    "    symmetry=parity_symmetry\n",
    "else\n",
    "    symmetry=trivial_symmetry\n",
    "end\n",
    "\n",
    "#Define basis#\n",
    "if evod == \"dvr\"\n",
    "\ttmp1,tmp2,tmp3 = symmetry.(exp_dvr(mmax))\n",
    "\tglobal T = symmetry(tmp1)\n",
    "\tglobal X = symmetry(tmp2)\n",
    "\tglobal Y = symmetry(tmp3)\n",
    "\n",
    "\tNspec=size(T,1)\n",
    "else \n",
    "\tglobal T = symmetry(Ttmp)\n",
    "\tglobal X = symmetry(Xtmp)\n",
    "\tglobal Y = symmetry(Ytmp)\n",
    "\tglobal Up = symmetry(Uptmp)\n",
    "\tglobal Down = symmetry(Downtmp)\n",
    "\tglobal mInvert = symmetry(mInverttmp)\n",
    "\tglobal SmallEProj = symmetry(SmallEProjtmp)\n",
    "\n",
    "\tNspec=size(T,1)\n",
    "end\n",
    "\n",
    "#Determine number of interaction pairs per starting site#\n",
    "Nsecond = zeros(Int64,(Nsites-1))\n",
    "for i=1:Nsites-1\n",
    "\tif pairs == \"nearest\"\n",
    "\t\tNsecond[i]=i+1\n",
    "\telseif pairs == \"allpairs\"\n",
    "\t\tNsecond[i]=Nsites\n",
    "\tend\n",
    "end\n",
    "\n",
    "include(\"operators.jl\")\n",
    "include(\"observer.jl\")\n",
    "\n",
    "if evod == \"dvr\"\n",
    "    fac1 = 1.0\n",
    "    fac2 = 1.0\n",
    "else \n",
    "    fac1 = -1.0\n",
    "    fac2 = 1.0im\n",
    "end\n",
    "\n",
    "g = 1.1\n",
    "\n",
    "sites = siteinds(\"PlaRotor\",Nsites;dim=Nspec, conserve_parity=use_parity_symmetry, conserve_L=false)\n",
    "\n",
    "Random.seed!(1234)\n",
    "if parity_symmetry_type == \"even\"\n",
    "\tpsi = randomMPS(sites,[1 for i in 1:Nsites]; linkdims=50)\n",
    "elseif parity_symmetry_type == \"odd\"\n",
    "\tpsi = randomMPS(sites,[[1 for i in 1:Nsites-1]..., 2*mmax]; linkdims=50)\n",
    "else\n",
    "\tpsi = randomMPS(sites; linkdims=50)\n",
    "end\n",
    "# psi = MPS(sites, [1 for i in 1:Nsites])\n"
   ]
  },
  {
   "cell_type": "code",
   "execution_count": 43,
   "metadata": {},
   "outputs": [],
   "source": [
    "function find_mapping(mat)\n",
    "    mapping = []\n",
    "    rows = size(mat)[2]\n",
    "    for i=1:rows\n",
    "        index = argmax(abs.(mat[i:end,i]))\n",
    "        if abs(mat[index, i]) < 0.3\n",
    "            push!(mapping, nothing)\n",
    "        else\n",
    "            push!(mapping, index)\n",
    "        end\n",
    "    end\n",
    "    return mapping\n",
    "end\n",
    "\n",
    "\n",
    "sweeps = Sweeps(30)\n",
    "maxdim!(sweeps,20)\n",
    "setcutoff!(sweeps, 1e-10)\n",
    "\n",
    "excitation_number = 20\n",
    "Tij = zeros(excitation_number, excitation_number)\n",
    "previous_eigenstates = MPS[]\n",
    "prev_x = nothing\n",
    "energies = []\n",
    "g_values = []\n",
    "connection = []\n",
    "\n",
    "\n",
    "Hij = zeros(excitation_number, excitation_number)\n",
    "Sij = zeros(excitation_number, excitation_number) # we want H x = lambda S x\n",
    "tmp = zeros(excitation_number, excitation_number)\n",
    "\n",
    "for g=0.1:0.05:1.6\n",
    "    H = create_Hamiltonian(g, sites, Nsecond)\n",
    "    energy_eigenstates = MPS[]\n",
    "\n",
    "    push!(g_values, g)\n",
    "    # finding excited state with DMRG\n",
    "    for i in 1:excitation_number\n",
    "        energy, ψ = dmrg(H,energy_eigenstates, psi, sweeps;outputlevel=0, weight=30)\n",
    "        push!(energy_eigenstates, ψ)\n",
    "    end\n",
    "    # compute <i|H|j> and <i|j>\n",
    "    for i in 1:excitation_number\n",
    "        for j in 1:excitation_number\n",
    "            Hij[i,j] = inner(energy_eigenstates[i], apply(H, energy_eigenstates[j]))\n",
    "            Sij[i,j] = inner(energy_eigenstates[i], energy_eigenstates[j])\n",
    "        end\n",
    "    end\n",
    "    # compute generalized eigenvalue problem to rediagonalize\n",
    "    F = eigen(Hij, Sij)\n",
    "    push!(energies, F.values)\n",
    "\n",
    "    # comparing new eigenstates with previous to see which they map to\n",
    "    if length(previous_eigenstates) > 0\n",
    "        for i in 1:excitation_number\n",
    "            for j in 1:excitation_number\n",
    "                Tij[i,j] = inner(energy_eigenstates[i], previous_eigenstates[j])\n",
    "            end\n",
    "        end\n",
    "        tmp = F.vectors\n",
    "\n",
    "        push!(connection, find_mapping(F.vectors' * Tij *prev_x))\n",
    "    else\n",
    "        push!(connection, nothing)\n",
    "    end\n",
    "    prev_x = F.vectors\n",
    "    previous_eigenstates = copy(energy_eigenstates)\n",
    "end\n",
    "connection = connection[2:end]\n",
    "data = hcat(energies...)'"
   ]
  },
  {
   "cell_type": "code",
   "execution_count": null,
   "metadata": {},
   "outputs": [],
   "source": [
    "using JLD\n",
    "save(\"../output_data/DMRG_data.jld\", \"energies\", data, \"connections\", \n",
    "    connection, \"N\", Nsites,\"mmax\", mmax, \"bond_dim\", get_maxdims(sweeps))"
   ]
  },
  {
   "cell_type": "code",
   "execution_count": null,
   "metadata": {},
   "outputs": [],
   "source": [
    "using Plots\n",
    "using LaTeXStrings\n",
    "\n",
    "p = plot(xlabel=L\"g\", ylabel=L\"E\")\n",
    "for i = 1:size(data)[2]\n",
    "    y = [data[1,i]]\n",
    "    index = i\n",
    "    for j in 1:length(connection)\n",
    "        index = findfirst(==(index), connection[j])\n",
    "        if isnothing(index)\n",
    "            break\n",
    "        end\n",
    "        push!(y, data[1+j, index])\n",
    "    end\n",
    "    plot!(p, g_values[1:length(y)], y)\n",
    "    println()\n",
    "end\n",
    "display(p)"
   ]
  },
  {
   "cell_type": "code",
   "execution_count": 53,
   "metadata": {},
   "outputs": [
    {
     "data": {
      "text/plain": [
       "2-element Vector{Any}:\n",
       " nothing\n",
       " Any[1, 2, 3, 4, 6, 10, 9, 12, 5, 15, 16, 20, 7, 8, nothing, 11, nothing, 13, 14, 17]"
      ]
     },
     "metadata": {},
     "output_type": "display_data"
    }
   ],
   "source": [
    "connection"
   ]
  },
  {
   "cell_type": "code",
   "execution_count": 50,
   "metadata": {},
   "outputs": [
    {
     "data": {
      "text/plain": [
       "5-element Vector{Any}:\n",
       " 1\n",
       " 2\n",
       " 3\n",
       " 4\n",
       "  nothing"
      ]
     },
     "metadata": {},
     "output_type": "display_data"
    }
   ],
   "source": [
    "find_mapping(tmp' * Tij *prev_x)"
   ]
  }
 ],
 "metadata": {
  "kernelspec": {
   "display_name": "Julia 1.9.3",
   "language": "julia",
   "name": "julia-1.9"
  },
  "language_info": {
   "file_extension": ".jl",
   "mimetype": "application/julia",
   "name": "julia",
   "version": "1.9.3"
  }
 },
 "nbformat": 4,
 "nbformat_minor": 2
}
