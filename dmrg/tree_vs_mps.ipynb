{
 "cells": [
  {
   "cell_type": "code",
   "execution_count": 2,
   "metadata": {},
   "outputs": [],
   "source": [
    "using ITensorNetworks\n",
    "using ITensors\n",
    "\n",
    "# using ITensorNetworks\n",
    "using Observers\n",
    "using Printf: Format, format\n",
    "using Printf\n",
    "using TupleTools\n",
    "using JLD\n",
    "using YAML\n",
    "using HDF5\n",
    "import Random\n",
    "\n",
    "push!(LOAD_PATH,pwd())\n",
    "include(\"input_data.jl\")\n",
    "include(\"matrices.jl\")\n",
    "include(\"states.jl\")\n",
    "include(\"expectations.jl\")\n",
    "include(\"dvr.jl\")\n",
    "include(\"utility_funcs.jl\")\n",
    "\n",
    "\n",
    "Nspec, Nsites, Nbonds, Nsweep, e_cutoff, \n",
    "\t\tSVD_error, gstart, delta_g, Ng,\n",
    "        mbond, pairs, evod, angle, Estrength, \n",
    "\t\tNstates, output_filename, parity_symmetry_type,\n",
    "\t\tinversion_symmetry_type = get_input_data(\"input_quick_DMRG.yml\"; default_filename=\"test\")\n",
    "\n",
    "Nsites = 4\n",
    "###{tdvp_filename}.h5 will be where the data is stored (written to on the fly while propagating every 5th sweep by default)\n",
    "###ToDo: we might want to parse the name for that file from input\n",
    "\n",
    "#Calculate kinetic matrix and x operator#\n",
    "Ttmp = kinetic(Nspec)\n",
    "Xtmp = Xoperator(Nspec)\n",
    "Ytmp = Yoperator(Nspec)\n",
    "Uptmp = Upoperator(Nspec)\n",
    "Downtmp = Downoperator(Nspec)\n",
    "\n",
    "use_inversion_symmetry = inversion_symmetry_type == \"even\" || inversion_symmetry_type == \"odd\"\n",
    "use_parity_symmetry = parity_symmetry_type == \"even\" || parity_symmetry_type == \"odd\"\n",
    "\n",
    "if evod == \"dvr\"\n",
    "\tsymmetry = trivial_symmetry\n",
    "\tif use_inversion_symmetry && use_parity_symmetry\n",
    "\t\tsymmetry = dvr_symmetric_basis\n",
    "\telseif use_inversion_symmetry\n",
    "\t\tsymmetry = dvr_inversion_symmetry\n",
    "\telseif use_parity_symmetry\n",
    "\t\tsymmetry = dvr_rotation_symmetry\n",
    "\tend\n",
    "\n",
    "\t# define basis\n",
    "\ttmp1,tmp2,tmp3 = symmetry.(exp_dvr(Nspec))\n",
    "\tglobal T = tmp1\n",
    "\tglobal X = tmp2\n",
    "\tglobal Y = tmp3\n",
    "end\n",
    "if evod == \"m\"\n",
    "    symmetry = trivial_symmetry\n",
    "\tif use_inversion_symmetry && use_parity_symmetry\n",
    "\t\tsymmetry = x -> parity_symmetry(m_inversion_symmetry(x))\n",
    "\telseif use_inversion_symmetry\n",
    "\t\tsymmetry = m_inversion_symmetry\n",
    "\telseif use_parity_symmetry\n",
    "\t\tsymmetry = parity_symmetry\n",
    "\tend\n",
    "\n",
    "\n",
    "\t# define basis\n",
    "\tglobal T = symmetry(Ttmp)\n",
    "\tglobal X = symmetry(Xtmp)\n",
    "\tglobal Y = symmetry(Ytmp)\n",
    "\tglobal Up = symmetry(Uptmp)\n",
    "\tglobal Down = symmetry(Downtmp)\n",
    "end\n",
    "\n",
    "\n",
    "Nspec=size(T,1)\n",
    "\n",
    "include(\"operators.jl\")\n",
    "include(\"observer.jl\")"
   ]
  },
  {
   "cell_type": "code",
   "execution_count": 3,
   "metadata": {},
   "outputs": [
    {
     "data": {
      "text/plain": [
       "create_Hamiltonian2 (generic function with 1 method)"
      ]
     },
     "metadata": {},
     "output_type": "display_data"
    }
   ],
   "source": [
    "using ITensorNetworks\n",
    "function create_Hamiltonian2(g, sites, pairs; Estrength=0,angle=0, evod=\"m\", get_ampo=false)\n",
    "\tNsites = length(ITensorNetworks.vertices(sites))\n",
    "\n",
    "\tNsecond = zeros(Int64,(Nsites-1))\n",
    "\n",
    "\tfor i=1:Nsites-1\n",
    "\t\tif pairs == \"nearest\"\n",
    "\t\t\tNsecond[i]=i+1\n",
    "\t\telseif pairs == \"allpairs\"\n",
    "\t\t\tNsecond[i]=Nsites\n",
    "        else\n",
    "            throw(string(\"Pairs is: \", pairs))\n",
    "        end\n",
    "\tend\n",
    "\n",
    "\tampo = AutoMPO()\n",
    "\tfor i=1:Nsites-1\n",
    "\t\tampo += 1.0,\"T\",i\n",
    "\t\tfor j=i+1:Nsecond[i]\n",
    "\t\t\tc=g/((abs(j-i))^3)\n",
    "\t\t\tif evod == \"dvr\"\n",
    "\t\t\t\t# y_iy_j#\n",
    "\t\t\t\tampo += 1.0*c,\"Y\",i,\"Y\",j\n",
    "\t\t\t\t# 2*x_ix_j#\n",
    "\t\t\t\tampo += -2.0*c,\"X\",i,\"X\",j\n",
    "\t\t\telse\n",
    "\t\t\t\t# up up\n",
    "\t\t\t\t# ampo +=-.75*c,\"Up\",i,\"Up\",j\n",
    "\t\t\t\t# # up down\n",
    "\t\t\t\t# ampo +=-.25*c,\"Up\",i,\"Down\",j\n",
    "\t\t\t\t# # down up \n",
    "\t\t\t\t# ampo +=-.25*c,\"Down\",i,\"Up\",j\n",
    "\t\t\t\t# # down down\n",
    "\t\t\t\t# ampo +=-.75*c,\"Down\",i,\"Down\",j\n",
    "\n",
    "                ampo += -1.0*c,\"Y\",i,\"Y\",j\n",
    "\t\t\t\tampo += -2.0*c,\"X\",i,\"X\",j\n",
    "\t\t\tend\n",
    "\t\tend\n",
    "\t\t#Electric field#\n",
    "\t\t\n",
    "\t\tif !iszero(Estrength)\n",
    "\t\t\tampo += -cos(angle)*Estrength,\"X\",i\n",
    "\t\t\tampo += -sin(angle)*Estrength*fac2,\"Y\",i\n",
    "\t\tend\n",
    "\tend\n",
    "\tampo += 1.0,\"T\",Nsites\n",
    "\t#Electric field#\n",
    "\tif !iszero(Estrength)\n",
    "\t\tampo += -cos(angle)*Estrength,\"X\",Nsites\n",
    "\t\tampo += -sin(angle)*Estrength*fac2,\"Y\",Nsites\n",
    "\tend\n",
    "\t# H = MPO(ampo,sites)\n",
    "    H = ITensorNetworks.ttn(ampo, sites)\n",
    "    if get_ampo\n",
    "\t    return H, ampo\n",
    "    else\n",
    "        return H\n",
    "    end\n",
    "end"
   ]
  },
  {
   "cell_type": "code",
   "execution_count": 3,
   "metadata": {},
   "outputs": [
    {
     "data": {
      "text/plain": [
       "-0.050027134465198554"
      ]
     },
     "metadata": {},
     "output_type": "display_data"
    }
   ],
   "source": [
    "using Graphs\n",
    "\n",
    "\n",
    "\n",
    "g = path_graph(3)\n",
    "# g = binary_tree(2)\n",
    "sites = siteinds(\"PlaRotor\",g; basis=evod,dim=Nspec, conserve_parity=false, conserve_inversion_symmetry=false)\n",
    "\n",
    "Random.seed!(1234)\n",
    "ψ = ITensorNetworks.random_ttn(sites)\n",
    "gstart = 0.2\n",
    "# psi = generate_initial_state(sites; parity_symmetry_type, inversion_symmetry_type)\n",
    "H = create_Hamiltonian2(gstart, sites, pairs; Estrength=0,angle=0, evod=evod)\n",
    "# psi = ITensorNetworks.TTN(ITensorNetwork(;link_space=2))\n",
    "ψf = ITensorNetworks.dmrg(H, ψ; nsweeps=60)\n",
    "inner(ψf', H, ψf)\n",
    "# apply(H,ψ;init=ψ)"
   ]
  },
  {
   "cell_type": "code",
   "execution_count": 4,
   "metadata": {},
   "outputs": [
    {
     "name": "stdout",
     "output_type": "stream",
     "text": [
      "After sweep 1 energy=4.48344684975962  maxlinkdim=13 maxerr=1.68E-16 time=4.669\n",
      "After sweep 2 energy=2.064741919878395  maxlinkdim=13 maxerr=0.00E+00 time=0.044\n",
      "After sweep 3 energy=1.5475956240283988  maxlinkdim=13 maxerr=0.00E+00 time=0.006\n",
      "After sweep 4 energy=1.2248366735291714  maxlinkdim=13 maxerr=0.00E+00 time=0.006\n",
      "After sweep 5 energy=0.894755067288027  maxlinkdim=13 maxerr=0.00E+00 time=0.007\n",
      "After sweep 6 energy=0.5830987702231102  maxlinkdim=13 maxerr=0.00E+00 time=0.006\n",
      "After sweep 7 energy=0.33758680886507814  maxlinkdim=13 maxerr=0.00E+00 time=0.006\n",
      "After sweep 8 energy=0.1728388994542937  maxlinkdim=13 maxerr=0.00E+00 time=0.007\n",
      "After sweep 9 energy=0.0735991164427363  maxlinkdim=13 maxerr=0.00E+00 time=0.059\n",
      "After sweep 10 energy=0.01735559025439043  maxlinkdim=13 maxerr=0.00E+00 time=0.008\n",
      "After sweep 11 energy=-0.013565335788492058  maxlinkdim=13 maxerr=0.00E+00 time=0.007\n",
      "After sweep 12 energy=-0.030336360235951005  maxlinkdim=13 maxerr=0.00E+00 time=0.005\n",
      "After sweep 13 energy=-0.039387586517425306  maxlinkdim=13 maxerr=0.00E+00 time=0.006\n",
      "After sweep 14 energy=-0.044268339939865974  maxlinkdim=13 maxerr=0.00E+00 time=0.006\n",
      "After sweep 15 energy=-0.04690306101164444  maxlinkdim=13 maxerr=0.00E+00 time=0.007\n",
      "After sweep 16 energy=-0.04832811586585477  maxlinkdim=13 maxerr=0.00E+00 time=0.007\n",
      "After sweep 17 energy=-0.0491007023862256  maxlinkdim=13 maxerr=0.00E+00 time=0.030\n",
      "After sweep 18 energy=-0.04952061264434216  maxlinkdim=13 maxerr=0.00E+00 time=0.006\n",
      "After sweep 19 energy=-0.04974943361674887  maxlinkdim=13 maxerr=0.00E+00 time=0.005\n",
      "After sweep 20 energy=-0.04987445602773304  maxlinkdim=13 maxerr=0.00E+00 time=0.006\n",
      "After sweep 21 energy=-0.04994295016922829  maxlinkdim=13 maxerr=0.00E+00 time=0.006\n",
      "After sweep 22 energy=-0.04998057862579424  maxlinkdim=13 maxerr=0.00E+00 time=0.007\n",
      "After sweep 23 energy=-0.050001308934804665  maxlinkdim=13 maxerr=0.00E+00 time=0.006\n",
      "After sweep 24 energy=-0.05001276290808571  maxlinkdim=13 maxerr=0.00E+00 time=0.007\n",
      "After sweep 25 energy=-0.050019110482763265  maxlinkdim=13 maxerr=0.00E+00 time=0.016\n",
      "After sweep 26 energy=-0.050022639113869026  maxlinkdim=13 maxerr=0.00E+00 time=0.005\n",
      "After sweep 27 energy=-0.050024607008183716  maxlinkdim=13 maxerr=0.00E+00 time=0.005\n",
      "After sweep 28 energy=-0.05002570816396918  maxlinkdim=13 maxerr=0.00E+00 time=0.007\n",
      "After sweep 29 energy=-0.05002632647215653  maxlinkdim=13 maxerr=0.00E+00 time=0.007\n",
      "After sweep 30 energy=-0.05002667491429823  maxlinkdim=13 maxerr=0.00E+00 time=0.006\n",
      "After sweep 31 energy=-0.05002687201465693  maxlinkdim=13 maxerr=0.00E+00 time=0.006\n",
      "After sweep 32 energy=-0.05002698394222747  maxlinkdim=13 maxerr=0.00E+00 time=0.015\n",
      "After sweep 33 energy=-0.0500270477598277  maxlinkdim=13 maxerr=0.00E+00 time=0.006\n",
      "After sweep 34 energy=-0.050027084298768086  maxlinkdim=13 maxerr=0.00E+00 time=0.006\n",
      "After sweep 35 energy=-0.050027105309344476  maxlinkdim=13 maxerr=0.00E+00 time=0.006\n",
      "After sweep 36 energy=-0.05002711744422731  maxlinkdim=13 maxerr=0.00E+00 time=0.006\n",
      "After sweep 37 energy=-0.05002712448454681  maxlinkdim=13 maxerr=1.99E-16 time=0.007\n",
      "After sweep 38 energy=-0.05002712858789602  maxlinkdim=13 maxerr=2.99E-19 time=0.007\n",
      "After sweep 39 energy=-0.05002713099060704  maxlinkdim=13 maxerr=1.79E-16 time=0.007\n",
      "After sweep 40 energy=-0.05002713240412561  maxlinkdim=12 maxerr=1.48E-16 time=0.015\n",
      "After sweep 41 energy=-0.05002713323957801  maxlinkdim=12 maxerr=3.86E-18 time=0.006\n",
      "After sweep 42 energy=-0.05002713373568345  maxlinkdim=12 maxerr=2.36E-18 time=0.006\n",
      "After sweep 43 energy=-0.050027134031642884  maxlinkdim=12 maxerr=1.48E-18 time=0.006\n",
      "After sweep 44 energy=-0.05002713420901581  maxlinkdim=11 maxerr=1.50E-16 time=0.006\n",
      "After sweep 45 energy=-0.05002713431578094  maxlinkdim=11 maxerr=8.54E-19 time=0.006\n",
      "After sweep 46 energy=-0.05002713438032683  maxlinkdim=11 maxerr=5.93E-19 time=0.008\n",
      "After sweep 47 energy=-0.050027134419512745  maxlinkdim=11 maxerr=4.35E-19 time=0.006\n",
      "After sweep 48 energy=-0.05002713444339885  maxlinkdim=11 maxerr=3.39E-19 time=0.008\n",
      "After sweep 49 energy=-0.05002713445801516  maxlinkdim=11 maxerr=2.80E-19 time=0.014\n",
      "After sweep 50 energy=-0.05002713446699224  maxlinkdim=11 maxerr=2.44E-19 time=0.005\n",
      "After sweep 51 energy=-0.05002713447252507  maxlinkdim=11 maxerr=2.11E-16 time=0.005\n",
      "After sweep 52 energy=-0.05002713447596534  maxlinkdim=10 maxerr=1.12E-16 time=0.007\n",
      "After sweep 53 energy=-0.05002713447808671  maxlinkdim=10 maxerr=4.06E-19 time=0.005\n",
      "After sweep 54 energy=-0.05002713447940415  maxlinkdim=10 maxerr=3.97E-19 time=0.006\n",
      "After sweep 55 energy=-0.050027134481597596  maxlinkdim=9 maxerr=1.69E-16 time=0.006\n",
      "After sweep 56 energy=-0.050027134481600274  maxlinkdim=9 maxerr=2.17E-18 time=0.006\n",
      "After sweep 57 energy=-0.05002713448160043  maxlinkdim=9 maxerr=3.45E-19 time=0.005\n",
      "After sweep 58 energy=-0.050027134481600455  maxlinkdim=9 maxerr=2.68E-19 time=0.015\n",
      "After sweep 59 energy=-0.050027134481588575  maxlinkdim=9 maxerr=2.23E-19 time=0.006\n",
      "After sweep 60 energy=-0.050027134481588575  maxlinkdim=9 maxerr=1.75E-19 time=0.005\n",
      "-0.050027134481588575\n"
     ]
    }
   ],
   "source": [
    "sites = siteinds(\"PlaRotor\",3; basis=evod,dim=Nspec, conserve_parity=false, conserve_inversion_symmetry=false)\n",
    "ψ = randomMPS(sites)\n",
    "H = create_Hamiltonian(gstart, sites, pairs; Estrength=0,angle=0, evod=evod)\n",
    "E,ψf = dmrg(H, ψ; nsweeps=60)\n",
    "println(E)"
   ]
  },
  {
   "cell_type": "markdown",
   "metadata": {},
   "source": [
    "# TDVP Testing"
   ]
  },
  {
   "cell_type": "code",
   "execution_count": 13,
   "metadata": {},
   "outputs": [
    {
     "name": "stdout",
     "output_type": "stream",
     "text": [
      "0.9830022278069154 + 0.00211406385699888im\n"
     ]
    }
   ],
   "source": [
    "using ITensorTDVP\n",
    "sites = siteinds(\"PlaRotor\",5; basis=evod,dim=Nspec, conserve_parity=false, conserve_inversion_symmetry=false)\n",
    "H = create_Hamiltonian(gstart, sites, pairs; Estrength=0,angle=0, evod=evod)\n",
    "ψ = randomMPS(sites)\n",
    "ψf = ITensorTDVP.tdvp(H, -3im, ψ; nsweeps=2, cutoff=1e-9)\n",
    "ψf2 = ITensorTDVP.tdvp(H, 3im, ψf; nsweeps=20, cutoff=1e-9)\n",
    "println(inner(ψ,ψf2))"
   ]
  },
  {
   "cell_type": "code",
   "execution_count": 14,
   "metadata": {},
   "outputs": [],
   "source": [
    "\n",
    "# g = path_graph(3)\n",
    "# g = binary_tree(2)\n",
    "Nsites = 5\n",
    "sites = siteinds(\"PlaRotor\",Nsites; basis=evod,dim=Nspec, conserve_parity=false, conserve_inversion_symmetry=false)\n",
    "\n",
    "Random.seed!(1234)\n",
    "ψ_ = ITensorNetworks.TTN(MPS_to_ITensorNetwork(ψ))\n",
    "H_ = ITensorNetworks.TTN(MPS_to_ITensorNetwork(H))\n",
    "ψ_t2 = ITensorNetworks.tdvp(H_,-3im, ψ_;nsweeps=2, normalize=true, cutoff=1e-9,nsites=2)\n",
    "# println(inner(ψ_t2', H, ψ_t2))\n",
    "ψ_t3 = ITensorNetworks.tdvp(H_,3im, ψ_t2;nsweeps=20, normalize=true, cutoff=1e-9, nsites=2)\n",
    "println(inner(ψ_t3,ψ_))"
   ]
  },
  {
   "cell_type": "code",
   "execution_count": 29,
   "metadata": {},
   "outputs": [
    {
     "name": "stdout",
     "output_type": "stream",
     "text": [
      "0.99999999803339 + 2.766568410631811e-7im\n"
     ]
    }
   ],
   "source": [
    "using Graphs: path_graph\n",
    "g = path_graph(30)\n",
    "# g = binary_tree(2)\n",
    "sites = siteinds(\"PlaRotor\",g; basis=evod,dim=Nspec, conserve_parity=false, conserve_inversion_symmetry=false)\n",
    "\n",
    "Random.seed!(1234)\n",
    "ψ = ITensorNetworks.random_ttn(sites)\n",
    "gstart = 0.2\n",
    "H = create_Hamiltonian2(gstart, sites, pairs; Estrength=0,angle=0, evod=evod)\n",
    "ψ_t2 = ITensorNetworks.tdvp(H,-1im, ψ;nsweeps=2, normalize=true, cutoff=1e-9,nsites=2)\n",
    "ψ_t3 = ITensorNetworks.tdvp(H,1im, ψ_t2;nsweeps=2, normalize=true, cutoff=1e-9, nsites=2)\n",
    "println(inner(ψ_t3,ψ))"
   ]
  },
  {
   "cell_type": "code",
   "execution_count": 20,
   "metadata": {},
   "outputs": [
    {
     "name": "stdout",
     "output_type": "stream",
     "text": [
      "0.995966703965943 - 0.0037524138587936417im\n"
     ]
    }
   ],
   "source": [
    "using Graphs: binary_tree\n",
    "# g = path_graph(3)\n",
    "g = binary_tree(3)\n",
    "sites = siteinds(\"PlaRotor\",g; basis=evod,dim=Nspec, conserve_parity=false, conserve_inversion_symmetry=false)\n",
    "\n",
    "Random.seed!(1234)\n",
    "ψ = ITensorNetworks.random_ttn(sites)\n",
    "gstart = 0.2\n",
    "H = create_Hamiltonian2(gstart, sites, pairs; Estrength=0,angle=0, evod=evod)\n",
    "ψ_t2 = ITensorNetworks.tdvp(H,-1im, ψ;nsweeps=2, normalize=true, cutoff=1e-9,nsites=2)\n",
    "ψ_t3 = ITensorNetworks.tdvp(H,1im, ψ_t2;nsweeps=2, normalize=true, cutoff=1e-9, nsites=2)\n",
    "println(inner(ψ_t3,ψ))"
   ]
  },
  {
   "cell_type": "code",
   "execution_count": 22,
   "metadata": {},
   "outputs": [
    {
     "data": {
      "text/plain": [
       "    \u001b[38;5;8m⠀⠀⠀⠀⠀⠀⠀⠀⠀⠀⠀⠀⠀⠀⠀⠀⠀⠀⠀⠀⠀⠀⠀⠀⠀⠀⠀⠀⠀⠀⠀⠀⠀⠀⠀⠀⠀⠀⠀⠀⠀⠀⠀⠀⠀⠀⠀⠀⠀⠀⠀⠀\u001b[0m \n",
       "    \u001b[38;5;8m⠀\u001b[0m⠀⠀⠀⠀⠀⠀⠀⠀⠀⠀⠀⠀⠀⠀⠀⠀⠀⠀⠀⠀⠀⠀⠀⠀⠀⠀⠀⠀⠀⠀⠀⠀⠀⠀⠀⠀⠀⠀⠀⠀⠀⠀⠀⠀⠀⠀⠀⠀⠀⠀\u001b[38;5;8m⠀\u001b[0m \n",
       "    \u001b[38;5;8m⠀\u001b[0m⠀⠀⠀⠀⠀⠀⠀⠀⠀⠀⠀⠀⠀⠀⠀⠀⠀⠀⠀⠀⠀⠀⠀⠀⠀⠀⠀⠀⠀⠀⠀⠀⠀⠀⠀⠀⠀⠀⠀⠀⠀⠀⠀⠀⠀⠀⠀⠀⠀⠀\u001b[38;5;8m⠀\u001b[0m \n",
       "    \u001b[38;5;8m⠀\u001b[0m⠀⠀⠀⠀⠀⠀⠀⠀⠀⠀⠀⠀⠀⠀⠀⠀⠀⠀⠀⠀⠀⠀⠀⠀⠀⠀⠀⠀⠀⠀⠀⠀⠀⠀⠀⠀⠀⠀⠀⠀⠀⠀⠀⠀⠀⠀⠀⠀⠀⠀\u001b[38;5;8m⠀\u001b[0m \n",
       "    \u001b[38;5;8m⠀\u001b[0m⠀⠀⠀⠀⠀ψ4⠀⠀⠀⠀⠀⠀⠀⠀⠀⠀⠀⠀⠀⠀⠀⠀⠀⠀⠀⠀⠀⠀⠀⠀⠀⠀⠀⠀⠀⠀⠀⠀⠀⠀⠀⠀⠀⠀⠀⠀⠀⠀⠀\u001b[38;5;8m⠀\u001b[0m \n",
       "    \u001b[38;5;8m⠀\u001b[0m⠀⠀⠀⠀⠀⠀\u001b[38;5;4m⢸\u001b[0m\u001b[38;5;4m⢣\u001b[0m⠀⠀⠀⠀⠀⠀⠀⠀⠀⠀⠀⠀⠀⠀⠀⠀⠀⠀⠀⠀⠀⠀⠀⠀⠀⠀⠀⠀⠀⠀⠀⠀⠀⠀⠀⠀⠀⠀⠀⠀⠀⠀\u001b[38;5;8m⠀\u001b[0m \n",
       "    \u001b[38;5;8m⠀\u001b[0m⠀⠀⠀⠀⠀13⠀\u001b[38;5;4m⠱\u001b[0m\u001b[38;5;4m⡀\u001b[0m⠀⠀⠀⠀⠀⠀⠀⠀⠀⠀⠀⠀⠀⠀⠀⠀⠀⠀⠀⠀⠀⠀⠀⠀⠀⠀⠀⠀⠀⠀⠀⠀⠀⠀⠀⠀⠀⠀⠀⠀\u001b[38;5;8m⠀\u001b[0m \n",
       "    \u001b[38;5;8m⠀\u001b[0m⠀⠀⠀⠀⠀⠀\u001b[38;5;4m⠸\u001b[0m⠀⠀1\u001b[38;5;4m⢄\u001b[0m⠀⠀⠀⠀⠀⠀⠀⠀⠀⠀⠀⠀⠀⠀⠀⠀⠀⠀⠀⠀⠀⠀⠀⠀⠀⠀⠀⠀⠀⠀⠀⠀⠀⠀⠀⠀⠀⠀⠀\u001b[38;5;8m⠀\u001b[0m \n",
       "    \u001b[38;5;8m⠀\u001b[0m⠀⠀⠀⠀⠀⠀⠀⠀⠀⠀\u001b[38;5;4m⠈\u001b[0m\u001b[38;5;4m⢆\u001b[0m⠀⠀⠀⠀⠀⠀⠀⠀⠀⠀⠀⠀⠀⠀⠀⠀⠀⠀⠀⠀⠀⠀⠀⠀⠀⠀⠀⠀⠀⠀⠀⠀⠀⠀⠀⠀⠀⠀\u001b[38;5;8m⠀\u001b[0m \n",
       "    \u001b[38;5;8m⠀\u001b[0m⠀⠀⠀⠀⠀⠀⠀⠀⠀⠀⠀ψ2\u001b[38;5;4m⠤\u001b[0m\u001b[38;5;4m⠤\u001b[0m\u001b[38;5;4m⣀\u001b[0m\u001b[38;5;4m⣀\u001b[0m⠀⠀⠀⠀⠀⠀⠀⠀⠀⠀⠀⠀⠀⠀⠀⠀⠀⠀⠀⠀⠀⠀⠀⠀⠀⠀⠀ψ7⠀⠀⠀⠀\u001b[38;5;8m⠀\u001b[0m \n",
       "    \u001b[38;5;8m⠀\u001b[0m⠀⠀⠀⠀⠀⠀⠀⠀\u001b[38;5;4m⢀\u001b[0m\u001b[38;5;4m⡠\u001b[0m\u001b[38;5;4m⠊\u001b[0m\u001b[38;5;4m⠁\u001b[0m\u001b[38;5;4m⢸\u001b[0m⠀⠀⠀⠀\u001b[38;5;4m⠉\u001b[0m1\u001b[38;5;4m⠒\u001b[0m\u001b[38;5;4m⠒\u001b[0m\u001b[38;5;4m⠤\u001b[0m\u001b[38;5;4m⠤\u001b[0m\u001b[38;5;4m⣀\u001b[0mψ1⠀⠀⠀⠀⠀⠀⠀⠀⠀⠀⠀⠀⠀⠀⠀1\u001b[38;5;4m⠤\u001b[0m\u001b[38;5;4m⠊\u001b[0m13⠀⠀⠀⠀\u001b[38;5;8m⠀\u001b[0m \n",
       "    \u001b[38;5;8m⠀\u001b[0m⠀⠀⠀⠀⠀\u001b[38;5;4m⢀\u001b[0m\u001b[38;5;4m⡠\u001b[0m\u001b[38;5;4m⠒\u001b[0m1⠀⠀13⠀⠀⠀⠀⠀⠀⠀⠀⠀⠀⠀⠀\u001b[38;5;4m⡏\u001b[0m\u001b[38;5;4m⠉\u001b[0m\u001b[38;5;4m⠑\u001b[0m\u001b[38;5;4m⠒\u001b[0m\u001b[38;5;4m⠢\u001b[0m\u001b[38;5;4m⠤\u001b[0m1\u001b[38;5;4m⣀\u001b[0m\u001b[38;5;4m⡀\u001b[0m⠀⠀⠀⠀\u001b[38;5;4m⢀\u001b[0m\u001b[38;5;4m⠤\u001b[0m\u001b[38;5;4m⠊\u001b[0m\u001b[38;5;4m⠁\u001b[0m⠀⠀⠀\u001b[38;5;4m⢸\u001b[0m⠀⠀⠀⠀\u001b[38;5;8m⠀\u001b[0m \n",
       "    \u001b[38;5;8m⠀\u001b[0m⠀⠀⠀ψ5\u001b[38;5;4m⠁\u001b[0m⠀⠀⠀⠀⠀⠀\u001b[38;5;4m⠘\u001b[0m⠀⠀⠀⠀⠀⠀⠀⠀⠀⠀⠀13⠀⠀⠀⠀⠀⠀⠀\u001b[38;5;4m⠈\u001b[0m\u001b[38;5;4m⠉\u001b[0m\u001b[38;5;4m⠉\u001b[0mψ3\u001b[38;5;4m⠁\u001b[0m⠀⠀⠀⠀⠀⠀\u001b[38;5;4m⠈\u001b[0m⠀⠀⠀⠀\u001b[38;5;8m⠀\u001b[0m \n",
       "    \u001b[38;5;8m⠀\u001b[0m⠀⠀⠀⠀\u001b[38;5;4m⡇\u001b[0m⠀⠀⠀⠀⠀⠀⠀⠀⠀⠀⠀⠀⠀⠀⠀⠀⠀⠀⠀⠀\u001b[38;5;4m⠇\u001b[0m⠀⠀⠀⠀⠀⠀⠀⠀⠀⠀13\u001b[38;5;4m⠣\u001b[0m\u001b[38;5;4m⡀\u001b[0m⠀⠀⠀⠀⠀⠀⠀⠀⠀⠀\u001b[38;5;8m⠀\u001b[0m \n",
       "    \u001b[38;5;8m⠀\u001b[0m⠀⠀⠀13⠀⠀⠀⠀⠀⠀⠀⠀⠀⠀⠀⠀⠀⠀⠀⠀⠀⠀⠀⠀⠀⠀⠀⠀⠀⠀⠀⠀⠀⠀⠀⠀\u001b[38;5;4m⡇\u001b[0m⠀\u001b[38;5;4m⠑\u001b[0m1⠀⠀⠀⠀⠀⠀⠀⠀⠀\u001b[38;5;8m⠀\u001b[0m \n",
       "    \u001b[38;5;8m⠀\u001b[0m⠀⠀⠀⠀\u001b[38;5;4m⠃\u001b[0m⠀⠀⠀⠀⠀⠀⠀⠀⠀⠀⠀⠀⠀⠀⠀⠀⠀⠀⠀⠀⠀⠀⠀⠀⠀⠀⠀⠀⠀⠀⠀⠀\u001b[38;5;4m⠁\u001b[0m⠀⠀\u001b[38;5;4m⠈\u001b[0m\u001b[38;5;4m⢆\u001b[0m⠀⠀⠀⠀⠀⠀⠀⠀\u001b[38;5;8m⠀\u001b[0m \n",
       "    \u001b[38;5;8m⠀\u001b[0m⠀⠀⠀⠀⠀⠀⠀⠀⠀⠀⠀⠀⠀⠀⠀⠀⠀⠀⠀⠀⠀⠀⠀⠀⠀⠀⠀⠀⠀⠀⠀⠀⠀⠀⠀⠀⠀⠀⠀⠀⠀⠀\u001b[38;5;4m⢣\u001b[0m⠀⠀⠀⠀⠀⠀⠀\u001b[38;5;8m⠀\u001b[0m \n",
       "    \u001b[38;5;8m⠀\u001b[0m⠀⠀⠀⠀⠀⠀⠀⠀⠀⠀⠀⠀⠀⠀⠀⠀⠀⠀⠀⠀⠀⠀⠀⠀⠀⠀⠀⠀⠀⠀⠀⠀⠀⠀⠀⠀⠀⠀⠀⠀⠀⠀ψ6⠀⠀⠀⠀⠀⠀\u001b[38;5;8m⠀\u001b[0m \n",
       "    \u001b[38;5;8m⠀\u001b[0m⠀⠀⠀⠀⠀⠀⠀⠀⠀⠀⠀⠀⠀⠀⠀⠀⠀⠀⠀⠀⠀⠀⠀⠀⠀⠀⠀⠀⠀⠀⠀⠀⠀⠀⠀⠀⠀⠀⠀⠀⠀⠀13⠀⠀⠀⠀⠀⠀\u001b[38;5;8m⠀\u001b[0m \n",
       "    \u001b[38;5;8m⠀\u001b[0m⠀⠀⠀⠀⠀⠀⠀⠀⠀⠀⠀⠀⠀⠀⠀⠀⠀⠀⠀⠀⠀⠀⠀⠀⠀⠀⠀⠀⠀⠀⠀⠀⠀⠀⠀⠀⠀⠀⠀⠀⠀⠀⠀\u001b[38;5;4m⡇\u001b[0m⠀⠀⠀⠀⠀⠀\u001b[38;5;8m⠀\u001b[0m \n",
       "    \u001b[38;5;8m⠀\u001b[0m⠀⠀⠀⠀⠀⠀⠀⠀⠀⠀⠀⠀⠀⠀⠀⠀⠀⠀⠀⠀⠀⠀⠀⠀⠀⠀⠀⠀⠀⠀⠀⠀⠀⠀⠀⠀⠀⠀⠀⠀⠀⠀⠀\u001b[38;5;4m⠁\u001b[0m⠀⠀⠀⠀⠀⠀\u001b[38;5;8m⠀\u001b[0m \n",
       "    \u001b[38;5;8m⠀⠀⠀⠀⠀⠀⠀⠀⠀⠀⠀⠀⠀⠀⠀⠀⠀⠀⠀⠀⠀⠀⠀⠀⠀⠀⠀⠀⠀⠀⠀⠀⠀⠀⠀⠀⠀⠀⠀⠀⠀⠀⠀⠀⠀⠀⠀⠀⠀⠀⠀⠀\u001b[0m "
      ]
     },
     "metadata": {},
     "output_type": "display_data"
    },
    {
     "data": {
      "text/plain": [
       "ITensorNetworks.TreeTensorNetwork{Int64} with 7 vertices:\n",
       "7-element Dictionaries.Indices{Int64}\n",
       " 1\n",
       " 2\n",
       " 3\n",
       " 4\n",
       " 5\n",
       " 6\n",
       " 7\n",
       "\n",
       "and 6 edge(s):\n",
       "1 => 2\n",
       "1 => 3\n",
       "2 => 4\n",
       "2 => 5\n",
       "3 => 6\n",
       "3 => 7\n",
       "\n",
       "with vertex data:\n",
       "7-element Dictionaries.Dictionary{Int64, Any}\n",
       " 1 │ ((dim=13|id=548|\"PlaRotor,Site,n=1\"), (dim=1|id=308|\"1,2\"), (dim=1|id=473|…\n",
       " 2 │ ((dim=13|id=481|\"PlaRotor,Site,n=2\"), (dim=1|id=308|\"1,2\"), (dim=1|id=388|…\n",
       " 3 │ ((dim=13|id=561|\"PlaRotor,Site,n=3\"), (dim=1|id=473|\"1,3\"), (dim=1|id=479|…\n",
       " 4 │ ((dim=13|id=626|\"PlaRotor,Site,n=4\"), (dim=1|id=388|\"2,4\"))\n",
       " 5 │ ((dim=13|id=683|\"PlaRotor,Site,n=5\"), (dim=1|id=861|\"2,5\"))\n",
       " 6 │ ((dim=13|id=946|\"PlaRotor,Site,n=6\"), (dim=1|id=479|\"3,6\"))\n",
       " 7 │ ((dim=13|id=408|\"PlaRotor,Site,n=7\"), (dim=1|id=723|\"3,7\"))"
      ]
     },
     "metadata": {},
     "output_type": "display_data"
    }
   ],
   "source": [
    "using ITensorUnicodePlots: @visualize\n",
    "g = binary_tree(3)\n",
    "sites = siteinds(\"PlaRotor\",g; basis=evod,dim=Nspec, conserve_parity=false, conserve_inversion_symmetry=false)\n",
    "\n",
    "Random.seed!(1234)\n",
    "ψ = ITensorNetworks.random_ttn(sites)\n",
    "@visualize ψ"
   ]
  },
  {
   "cell_type": "markdown",
   "metadata": {},
   "source": [
    "# TEsting"
   ]
  },
  {
   "cell_type": "code",
   "execution_count": 131,
   "metadata": {},
   "outputs": [
    {
     "name": "stdout",
     "output_type": "stream",
     "text": [
      "-0.4653605434890912 + 2.949029909160572e-17im\n"
     ]
    }
   ],
   "source": [
    "using ITensorNetworks.ModelHamiltonians: ModelHamiltonians\n",
    "using Dictionaries: Dictionary\n",
    "\n",
    "c = path_graph(6)\n",
    "\n",
    "s = siteinds(\"S=1/2\", c)\n",
    "H = ITensorNetworks.ttn(ModelHamiltonians.heisenberg(c), s)\n",
    "ψ = ITensorNetworks.random_ttn(s)\n",
    "ψ_t2 = ITensorNetworks.tdvp(H,-300im, ψ;nsweeps=10, normalize=true, cutoff=1e-8,nsites=2)\n",
    "println(inner(ψ_t2', H, ψ_t2))\n",
    "# ψ_t3 = ITensorNetworks.tdvp(H,300im, ψ_t2;nsweeps=10, normalize=true, cutoff=1e-8, nsites=2)\n",
    "# 1 - inner(ψ_t3,ψ)"
   ]
  }
 ],
 "metadata": {
  "kernelspec": {
   "display_name": "Julia 1.9.3",
   "language": "julia",
   "name": "julia-1.9"
  },
  "language_info": {
   "file_extension": ".jl",
   "mimetype": "application/julia",
   "name": "julia",
   "version": "1.9.3"
  }
 },
 "nbformat": 4,
 "nbformat_minor": 2
}
