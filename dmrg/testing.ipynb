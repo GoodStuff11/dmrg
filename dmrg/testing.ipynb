{
 "cells": [
  {
   "cell_type": "code",
   "execution_count": 27,
   "metadata": {},
   "outputs": [],
   "source": [
    "using ITensors\n",
    "\n",
    "function ITensors.space(::SiteType\"S2=1/2\";\n",
    "    conserve_qns=false)\n",
    "    if conserve_qns\n",
    "        return [QN(\"Sz\",1,2)=>1,QN(\"Sz\",0,2)=>1,\n",
    "                QN(\"Sz\",1,2)=>1,QN(\"Sz\",0,2)=>1,QN(\"Sz\",1,2)=>1]\n",
    "    end\n",
    "    return 4\n",
    "end\n",
    "ITensors.op(::OpName\"Sz\",::SiteType\"S2=1/2\") = [\n",
    "    3/2 0 0 0 0\n",
    "    0 -1/2 0 0  0\n",
    "    0 0 1/2 0 0\n",
    "    0 0 0 -3/2 0\n",
    "    0 0 0 0 5/2\n",
    "]"
   ]
  },
  {
   "cell_type": "code",
   "execution_count": 29,
   "metadata": {},
   "outputs": [
    {
     "name": "stdout",
     "output_type": "stream",
     "text": [
      "QN(\"Sz\",0,2)\n"
     ]
    },
    {
     "data": {
      "text/plain": [
       "2.5"
      ]
     },
     "metadata": {},
     "output_type": "display_data"
    }
   ],
   "source": [
    "sites = siteinds(\"S2=1/2\", 4; conserve_qns=true)\n",
    "ψ = MPS(sites, [1,5,1,1])\n",
    "println(flux(ψ))\n",
    "inner(ψ, apply(MPO(AutoMPO() + (\"Sz\",2), sites), ψ))"
   ]
  },
  {
   "cell_type": "code",
   "execution_count": 64,
   "metadata": {},
   "outputs": [
    {
     "name": "stdout",
     "output_type": "stream",
     "text": [
      "Pair{QN, Int64}[QN(\"parity\",1,2) => 1, QN(\"parity\",0,2) => 1, QN(\"parity\",1,2) => 1]\n",
      "Pair{QN, Int64}[QN(\"parity\",1,2) => 1, QN(\"parity\",0,2) => 1, QN(\"parity\",1,2) => 1]\n",
      "Pair{QN, Int64}[QN(\"parity\",1,2) => 1, QN(\"parity\",0,2) => 1, QN(\"parity\",1,2) => 1]\n",
      "Pair{QN, Int64}[QN(\"parity\",1,2) => 1, QN(\"parity\",0,2) => 1, QN(\"parity\",1,2) => 1]\n"
     ]
    },
    {
     "data": {
      "text/plain": [
       "4-element Vector{Index{Vector{Pair{QN, Int64}}}}:\n",
       " (dim=3|id=612|\"PlaRotor,Site,n=1\") <Out>\n",
       " 1: QN(\"parity\",1,2) => 1\n",
       " 2: QN(\"parity\",0,2) => 1\n",
       " 3: QN(\"parity\",1,2) => 1\n",
       " (dim=3|id=417|\"PlaRotor,Site,n=2\") <Out>\n",
       " 1: QN(\"parity\",1,2) => 1\n",
       " 2: QN(\"parity\",0,2) => 1\n",
       " 3: QN(\"parity\",1,2) => 1\n",
       " (dim=3|id=175|\"PlaRotor,Site,n=3\") <Out>\n",
       " 1: QN(\"parity\",1,2) => 1\n",
       " 2: QN(\"parity\",0,2) => 1\n",
       " 3: QN(\"parity\",1,2) => 1\n",
       " (dim=3|id=121|\"PlaRotor,Site,n=4\") <Out>\n",
       " 1: QN(\"parity\",1,2) => 1\n",
       " 2: QN(\"parity\",0,2) => 1\n",
       " 3: QN(\"parity\",1,2) => 1"
      ]
     },
     "metadata": {},
     "output_type": "display_data"
    }
   ],
   "source": [
    "\n",
    "function ITensors.space(\n",
    "    ::SiteType\"PlaRotor\";\n",
    "    dim,\n",
    "    basis=\"m\",\n",
    "    conserve_parity=false,\n",
    "    conserve_inversion_symmetry=false,\n",
    "    )\n",
    "    mmax = dim ÷ 2\n",
    "    is_odd = dim%2\n",
    "    is_even = 1 - is_odd\n",
    "\n",
    "    # no conserved quantities\n",
    "    if !conserve_parity && !conserve_inversion_symmetry\n",
    "        return dim\n",
    "    end\n",
    "\n",
    "    if basis == \"m\"\n",
    "        if conserve_inversion_symmetry && conserve_parity\n",
    "            # all other operators must be transformed with the m_inversion_symmetry operator \n",
    "            # then the \n",
    "            @assert is_odd == 1\n",
    "            quantum_numbers = Pair{QN, Int64}[]\n",
    "            for m = -mmax:mmax\n",
    "                push!(quantum_numbers, QN((\"parity\", Int(m>0),2), (\"inv_sym\", m%2, 2))=>1)\n",
    "            end\n",
    "            return quantum_numbers\n",
    "        elseif conserve_inversion_symmetry\n",
    "            @assert is_odd == 1\n",
    "            return [QN(\"inv_sym\",0,2)=>mmax+1, QN(\"inv_sym\",1,2)=>mmax]\n",
    "        else\n",
    "            quantum_numbers = Pair{QN, Int64}[]\n",
    "            for m = -mmax+is_even:mmax\n",
    "                push!(quantum_numbers, QN(\"parity\", m%2, 2)=>1)\n",
    "            end\n",
    "            println(quantum_numbers)\n",
    "            return quantum_numbers\n",
    "        end\n",
    "    elseif basis == \"dvr\"\n",
    "        # apply rotation then the inversion operator\n",
    "        if conserve_inversion_symmetry && conserve_parity\n",
    "            @assert is_even == 1\n",
    "            println()\n",
    "            return [\n",
    "                QN((\"parity\",0,2), (\"inv_sym\",0,2))=>1 + mmax÷2, \n",
    "                QN((\"parity\",0,2), (\"inv_sym\",1,2))=>(mmax-1)÷2, \n",
    "                QN((\"parity\",1,2), (\"inv_sym\",0,2))=>(mmax+1)÷2, \n",
    "                QN((\"parity\",1,2), (\"inv_sym\",1,2))=>mmax÷2, \n",
    "            ]\n",
    "        elseif conserve_inversion_symmetry\n",
    "            return [QN(\"parity\",0,2)=>mmax+1, QN(\"parity\",1,2)=>mmax-is_even]\n",
    "        else\n",
    "            @assert is_even == 1\n",
    "            return [QN(\"parity\",0,2)=>mmax, QN(\"parity\",1,2)=>mmax]\n",
    "        end\n",
    "    else\n",
    "        throw(\"Invalid basis: $basis. Must be m or dvr\")\n",
    "    end\n",
    "end\n",
    "siteinds(\"PlaRotor\", 4;dim=3,basis=\"m\", conserve_parity=true, conserve_inversion_symmetry=false)"
   ]
  }
 ],
 "metadata": {
  "kernelspec": {
   "display_name": "Julia 1.9.3",
   "language": "julia",
   "name": "julia-1.9"
  },
  "language_info": {
   "file_extension": ".jl",
   "mimetype": "application/julia",
   "name": "julia",
   "version": "1.9.3"
  }
 },
 "nbformat": 4,
 "nbformat_minor": 2
}
