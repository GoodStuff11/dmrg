{
 "cells": [
  {
   "cell_type": "code",
   "execution_count": null,
   "metadata": {},
   "outputs": [],
   "source": [
    "using CSV\n",
    "using DataFrames\n",
    "df= DataFrame(CSV.File(\"/home/jkambulo/projects/def-pnroy/jkambulo/dmrg/output_data/ED_benchmark_v3_graham.csv\"))\n"
   ]
  },
  {
   "cell_type": "code",
   "execution_count": null,
   "metadata": {},
   "outputs": [],
   "source": [
    "data = Matrix(df[(df.Nsites .== 6) .& (df.mmax .== 5),:][!,[string(\"E\",i) for i in 1:20]])\n",
    "\n",
    "while true\n",
    "    losses = []\n",
    "    loss_arguments = []\n",
    "    for g_index in 2:size(data)[1]-2\n",
    "        for energy_index2 in 1:size(data)[2]\n",
    "            for energy_index in 1:size(data)[2]\n",
    "                tmp_data = copy(data[:, [energy_index, energy_index2]])\n",
    "                diff2_data = abs.(diff(diff(tmp_data, dims=1), dims=1))\n",
    "                loss = sum(diff2_data)\n",
    "\n",
    "                tmp_data[g_index:end,:] = reverse(tmp_data[g_index:end,:], dims=2)\n",
    "                new_loss = sum(abs.(diff(diff(tmp_data,dims=1),dims=1)))\n",
    "\n",
    "                # print(new_loss-loss)\n",
    "                if round(new_loss - loss, digits=5) < 0\n",
    "                    push!(loss_arguments,[g_index, energy_index, energy_index2])\n",
    "                    push!(losses, new_loss-loss)\n",
    "                end\n",
    "            end\n",
    "        end\n",
    "    end  \n",
    "\n",
    "    \n",
    "\n",
    "    if length(losses) == 0\n",
    "        break\n",
    "    end\n",
    "    i = argmin(losses)\n",
    "    println(length(losses),\" \", losses[i],\" \",loss_arguments[i])\n",
    "    data[loss_arguments[i][1]:end, loss_arguments[i][2:3]] = data[loss_arguments[i][1]:end, reverse(loss_arguments[i][2:3])]\n",
    "end"
   ]
  }
 ],
 "metadata": {
  "kernelspec": {
   "display_name": "Julia 1.9.3",
   "language": "julia",
   "name": "julia-1.9"
  },
  "language_info": {
   "file_extension": ".jl",
   "mimetype": "application/julia",
   "name": "julia",
   "version": "1.9.3"
  },
  "orig_nbformat": 4
 },
 "nbformat": 4,
 "nbformat_minor": 2
}
