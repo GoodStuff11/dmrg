{
 "cells": [
  {
   "cell_type": "code",
   "execution_count": 95,
   "metadata": {},
   "outputs": [
    {
     "data": {
      "text/latex": [
       "$\\displaystyle \\left[\\begin{matrix}1.0 & 0 & 0 & 0 & 0 & 0 & 0 & 0 & 0\\\\0 & -1.0 & 0 & 0 & 0 & 0 & 0 & 0 & 0\\\\0 & 0 & -1.0 & 0 & 0 & 0 & 0 & 0 & 0\\\\0 & 0 & 0 & -1.0 & 0 & 0 & 0 & 0 & 0\\\\0 & 0 & 0 & 0 & 1.0 & 0 & 0 & 0 & 0\\\\0 & 0 & 0 & 0 & 0 & -1.0 & 0 & 0 & 0\\\\0 & 0 & 0 & 0 & 0 & 0 & -1.0 & 0 & 0\\\\0 & 0 & 0 & 0 & 0 & 0 & 0 & -1.0 & 0\\\\0 & 0 & 0 & 0 & 0 & 0 & 0 & 0 & 1.0\\end{matrix}\\right]$"
      ],
      "text/plain": [
       "Matrix([\n",
       "[1.0,    0,    0,    0,   0,    0,    0,    0,   0],\n",
       "[  0, -1.0,    0,    0,   0,    0,    0,    0,   0],\n",
       "[  0,    0, -1.0,    0,   0,    0,    0,    0,   0],\n",
       "[  0,    0,    0, -1.0,   0,    0,    0,    0,   0],\n",
       "[  0,    0,    0,    0, 1.0,    0,    0,    0,   0],\n",
       "[  0,    0,    0,    0,   0, -1.0,    0,    0,   0],\n",
       "[  0,    0,    0,    0,   0,    0, -1.0,    0,   0],\n",
       "[  0,    0,    0,    0,   0,    0,    0, -1.0,   0],\n",
       "[  0,    0,    0,    0,   0,    0,    0,    0, 1.0]])"
      ]
     },
     "execution_count": 95,
     "metadata": {},
     "output_type": "execute_result"
    }
   ],
   "source": [
    "import qsymm\n",
    "import numpy as np\n",
    "import sympy\n",
    "\n",
    "ham = (\"kron(sigma_z, sigma_z, eye(2)) + kron(eye(2), sigma_z,sigma_z) + kron(sigma_z,eye(2),  sigma_z)+ kron(eye(2), sigma_x, eye(2)) + kron(sigma_x, eye(2), eye(2))+ kron(eye(2), eye(2), sigma_x)\")\n",
    "# ham  = sympy.Matrix([  \n",
    "#   [2.0  ,  0.0  ,  0.0  ,  0.0  , -0.75 ,  0.0  , 0.0  ,  0.0,    0.0],\n",
    "#   [0.0  ,  1.0  ,  0.0  , -0.25  , 0.0  , -0.75  , 0.0 ,   0.0 ,   0.0],\n",
    "#   [0.0  ,  0.0   , 2.0  ,  0.0  , -0.25  , 0.0  ,  0.0 ,   0.0 ,   0.0],\n",
    "#   [0.0  , -0.25 ,  0.0  ,  1.0 ,   0.0   , 0.0  ,  0.0  , -0.75 ,  0.0],\n",
    "#   [-0.75 ,  0.0 ,  -0.25 ,  0.0 ,   0.0  ,  0.0 ,  -0.25 ,  0.0  , -0.75],\n",
    "#   [0.0 ,  -0.75 ,  0.0  ,  0.0  ,  0.0  ,  1.0  ,  0.0 ,  -0.25,   0.0],\n",
    "#   [0.0  ,  0.0  ,  0.0 ,   0.0 , -0.25 ,  0.0  ,  2.0  ,  0.0  ,  0.0],\n",
    "#   [0.0 ,   0.0  ,  0.0 ,  -0.75 ,  0.0  , -0.25  , 0.0  ,  1.0  ,  0.0],\n",
    "#   [0.0  ,  0.0  ,  0.0  ,  0.0  , -0.75  , 0.0  ,  0.0  ,  0.0 ,   2.0]])\n",
    "# Convert to standard monomials form\n",
    "ham  = sympy.Matrix(np.diag([1,-1,-1,-1,1,-1,-1,-1,1]))\n",
    "H = qsymm.Model(ham)\n",
    "\n",
    "cubic_group = qsymm.groups.cubic()\n",
    "sg, cg = qsymm.symmetries(H, cubic_group)\n",
    "H.tosympy()"
   ]
  },
  {
   "cell_type": "code",
   "execution_count": 97,
   "metadata": {},
   "outputs": [
    {
     "data": {
      "text/plain": [
       "44"
      ]
     },
     "execution_count": 97,
     "metadata": {},
     "output_type": "execute_result"
    }
   ],
   "source": [
    "len(cg)"
   ]
  },
  {
   "cell_type": "code",
   "execution_count": 83,
   "metadata": {},
   "outputs": [
    {
     "name": "stdout",
     "output_type": "stream",
     "text": [
      "0.8734306516208497\n",
      "0.8563851304831632\n",
      "1.141265037004295\n",
      "0.755845827505958\n",
      "0.6726847846195944\n",
      "1.00635154512243\n",
      "1.349032232392831\n",
      "1.2543614395790352\n",
      "0.8293432720651092\n",
      "1.0944161511538943\n",
      "0.6445301203688226\n",
      "0.5976283280285705\n",
      "1.4434128371222115\n",
      "0.9896230773642962\n",
      "0.8180405976918563\n",
      "1.2323958543975673\n",
      "1.0030351834914821\n",
      "0.5081375408370533\n",
      "0.949881108228171\n",
      "0.6190846141877259\n",
      "18.63888533326492\n"
     ]
    }
   ],
   "source": [
    "\"\"\"\n",
    "Routines for simultaneous diagonalization\n",
    "Arun Chaganty <arunchaganty@gmail.com>\n",
    "\"\"\"\n",
    "\n",
    "import numpy as np\n",
    "from numpy import zeros, eye, diag\n",
    "from numpy.linalg import norm\n",
    "\n",
    "def givens_rotate( A, i, j, c, s ):\n",
    "    \"\"\"\n",
    "    Rotate A along axis (i,j) by c and s\n",
    "    \"\"\"\n",
    "    Ai, Aj = A[i,:], A[j,:]\n",
    "    A[i,:], A[j,:] = c * Ai + s * Aj, c * Aj - s * Ai \n",
    "\n",
    "    return A\n",
    "\n",
    "def givens_double_rotate( A, i, j, c, s ):\n",
    "    \"\"\"\n",
    "    Rotate A along axis (i,j) by c and s\n",
    "    \"\"\"\n",
    "    Ai, Aj = A[i,:], A[j,:]\n",
    "    A[i,:], A[j,:] = c * Ai + s * Aj, c * Aj - s * Ai \n",
    "    A_i, A_j = A[:,i], A[:,j]\n",
    "    A[:,i], A[:,j] = c * A_i + s * A_j, c * A_j - s * A_i \n",
    "\n",
    "    return A\n",
    "\n",
    "def jacobi_angles( *Ms, **kwargs ):\n",
    "    r\"\"\"\n",
    "    Simultaneously diagonalize using Jacobi angles\n",
    "    @article{SC-siam,\n",
    "       HTML =   \"ftp://sig.enst.fr/pub/jfc/Papers/siam_note.ps.gz\",\n",
    "       author = \"Jean-Fran\\c{c}ois Cardoso and Antoine Souloumiac\",\n",
    "       journal = \"{SIAM} J. Mat. Anal. Appl.\",\n",
    "       title = \"Jacobi angles for simultaneous diagonalization\",\n",
    "       pages = \"161--164\",\n",
    "       volume = \"17\",\n",
    "       number = \"1\",\n",
    "       month = jan,\n",
    "       year = {1995}}\n",
    "\n",
    "    (a) Compute Givens rotations for every pair of indices (i,j) i < j \n",
    "            - from eigenvectors of G = gg'; g = A_ij - A_ji, A_ij + A_ji\n",
    "            - Compute c, s as \\sqrt{x+r/2r}, y/\\sqrt{2r(x+r)}\n",
    "    (b) Update matrices by multiplying by the givens rotation R(i,j,c,s)\n",
    "    (c) Repeat (a) until stopping criterion: sin theta < threshold for all ij pairs\n",
    "    \"\"\"\n",
    "\n",
    "    assert len(Ms) > 0\n",
    "    m, n = Ms[0].shape\n",
    "    assert m == n\n",
    "\n",
    "    sweeps = kwargs.get('sweeps', 500)\n",
    "    threshold = kwargs.get('eps', 1e-14)\n",
    "    rank = kwargs.get('rank', m)\n",
    "\n",
    "    R = eye(m)\n",
    "\n",
    "    for _ in range(sweeps):\n",
    "        done = True\n",
    "        for i in range(rank):\n",
    "            for j in range(i+1, m):\n",
    "                G = zeros((2,2))\n",
    "                for M in Ms:\n",
    "                    g = np.array([ M[i,i] - M[j,j], M[i,j] + M[j,i] ])\n",
    "                    G += np.outer(g,g) / len(Ms)\n",
    "                # Compute the eigenvector directly\n",
    "                t_on, t_off = G[0,0] - G[1,1], G[0,1] + G[1,0]\n",
    "                theta = 0.5 * np.arctan2( t_off, t_on + np.sqrt( t_on*t_on + t_off * t_off) )\n",
    "                c, s = np.cos(theta), np.sin(theta)\n",
    "\n",
    "                if abs(s) > threshold:\n",
    "                    done = False\n",
    "                    # Update the matrices and V\n",
    "                    for M in Ms:\n",
    "                        givens_double_rotate(M, i, j, c, s)\n",
    "                        #assert M[i,i] > M[j, j]\n",
    "                    R = givens_rotate(R, i, j, c, s)\n",
    "\n",
    "        if done:\n",
    "            break\n",
    "    R = R.T\n",
    "\n",
    "    L = np.zeros((m, len(Ms)))\n",
    "    err = 0\n",
    "    for i, M in enumerate(Ms):\n",
    "        # The off-diagonal elements of M should be 0\n",
    "        print(norm(M - diag(diag(M))))\n",
    "        L[:,i] = diag(M)\n",
    "        err += norm(M - diag(diag(M)))\n",
    "\n",
    "    return R, L, err\n",
    "\n",
    "R, eigen_values, err = jacobi_angles(*[sum([np.random.random()*np.real(c.U) for c in cg]) for _ in range(len(cg))])\n",
    "print(err)"
   ]
  },
  {
   "cell_type": "code",
   "execution_count": 99,
   "metadata": {},
   "outputs": [
    {
     "data": {
      "text/plain": [
       "15.67979093083544"
      ]
     },
     "execution_count": 99,
     "metadata": {},
     "output_type": "execute_result"
    }
   ],
   "source": [
    "np.max(np.array([[np.sum(np.abs(a.U@ b.U -b.U@a.U)) for a in cg] for b in cg]))"
   ]
  },
  {
   "cell_type": "code",
   "execution_count": 85,
   "metadata": {},
   "outputs": [
    {
     "data": {
      "text/plain": [
       "array([[ 0.00000000e+00,  7.70843490e-16, -3.46593219e-15,\n",
       "        -2.12256386e-16, -7.73091384e-03,  1.17595330e-18,\n",
       "        -1.22037583e-15,  4.60210785e-16,  4.75502069e-15],\n",
       "       [-7.62003094e-16, -1.11022302e-16, -4.42471703e-01,\n",
       "        -2.21052272e-03, -1.06151722e-14,  7.57276838e-15,\n",
       "        -1.61732633e-01, -8.41488444e-03,  1.29951195e+00],\n",
       "       [ 3.40248360e-15,  4.42471703e-01, -1.11022302e-16,\n",
       "         3.32403786e-02,  5.15076203e-15, -8.37440693e-15,\n",
       "         8.75989375e-02, -1.81584628e-03, -3.80747649e-01],\n",
       "       [ 1.95344268e-16,  2.21052272e-03, -3.32403786e-02,\n",
       "         0.00000000e+00, -9.56923357e-16, -1.09299471e-17,\n",
       "         3.47650084e-02, -6.09978076e-02,  5.21802250e-02],\n",
       "       [ 7.73091384e-03,  1.06182609e-14, -5.16374177e-15,\n",
       "         9.55870544e-16, -2.16840434e-19,  6.72269933e-17,\n",
       "        -1.98505391e-15, -2.19278174e-17, -3.20474757e-15],\n",
       "       [ 1.18941332e-17, -7.53816976e-15,  8.35343648e-15,\n",
       "         3.47991550e-18, -6.49532784e-17,  0.00000000e+00,\n",
       "         3.71268455e-15, -1.12347616e-17, -1.34269216e-14],\n",
       "       [ 1.32695243e-15,  1.61732633e-01, -8.75989375e-02,\n",
       "        -3.47650084e-02,  1.99291890e-15, -3.77076247e-15,\n",
       "        -1.11022302e-16, -1.95748892e-03, -2.15275188e-01],\n",
       "       [-4.68096672e-16,  8.41488444e-03,  1.81584628e-03,\n",
       "         6.09978076e-02,  2.17026035e-17,  2.49672060e-17,\n",
       "         1.95748892e-03,  0.00000000e+00, -3.19780038e-03],\n",
       "       [-4.99935204e-15, -1.29951195e+00,  3.80747649e-01,\n",
       "        -5.21802250e-02,  3.17441564e-15,  1.34454535e-14,\n",
       "         2.15275188e-01,  3.19780038e-03,  0.00000000e+00]])"
      ]
     },
     "execution_count": 85,
     "metadata": {},
     "output_type": "execute_result"
    }
   ],
   "source": [
    "new_sym = [sum([np.random.random()*np.real(c.U) for c in cg]) for _ in range(len(cg))]\n",
    "new_sym[0]@ new_sym[2] - new_sym[2]@ new_sym[0]"
   ]
  },
  {
   "cell_type": "code",
   "execution_count": 60,
   "metadata": {},
   "outputs": [
    {
     "name": "stderr",
     "output_type": "stream",
     "text": [
      "C:\\Users\\jonat\\AppData\\Local\\Temp\\ipykernel_13960\\3819330076.py:7: FutureWarning: `rcond` parameter will change to the default of machine precision times ``max(M, N)`` where M and N are the input matrix dimensions.\n",
      "To use the future default and silence this warning we advise to pass `rcond=None`, to keep using the old, explicitly pass `rcond=-1`.\n",
      "  p = np.linalg.lstsq(eigen_values, np.array([1,1,1,1,0,-1,-1,-1,-1]))[0]\n"
     ]
    },
    {
     "data": {
      "text/plain": [
       "(array([ 2.51528899-2.83450747e-16j,  1.44187999+1.05931863e-16j,\n",
       "         0.98071818+3.02911887e-17j, -0.29773699+2.06585071e-17j,\n",
       "        -1.54836604-7.99643848e-17j, -1.26160625+5.74945880e-17j,\n",
       "        -1.01577652-4.40000971e-17j, -0.8255938 +3.00482547e-17j,\n",
       "         0.01119243+2.38675564e-17j]),\n",
       " array([[ 5.40425895e-02+9.55253436e-02j,  7.35581780e-01+0.00000000e+00j,\n",
       "          4.30031253e-02+5.02405118e-01j,  4.35240461e-01-2.21298679e-09j,\n",
       "         -2.74797005e-03-1.99398997e-02j, -4.18699020e-03+2.17280178e-02j,\n",
       "          1.47295615e-02-3.66329072e-02j, -2.69113106e-02-1.16845455e-03j,\n",
       "         -1.38565476e-04-5.20871727e-06j],\n",
       "        [-6.28947823e-01-1.36312467e-02j,  1.50419045e-01-1.23589222e-01j,\n",
       "         -7.98473502e-02-1.35993634e-01j, -1.62629432e-02-2.63687745e-03j,\n",
       "         -1.74794728e-01+2.33412889e-02j, -4.46719530e-03-3.85620569e-02j,\n",
       "          3.12246545e-02+2.79469690e-02j, -1.83151921e-01-1.45750788e-02j,\n",
       "          6.87807577e-01+0.00000000e+00j],\n",
       "        [-1.84072636e-01+2.46743520e-01j, -6.06673903e-02+4.97758052e-01j,\n",
       "          7.18443569e-01+0.00000000e+00j,  6.30275103e-03-6.33163970e-02j,\n",
       "          3.39521679e-02-3.92367675e-02j,  3.56661808e-02+6.71211079e-02j,\n",
       "         -7.16239893e-02-9.99089757e-02j,  2.61121271e-01+1.66810674e-01j,\n",
       "          1.16920258e-01+1.78767635e-02j],\n",
       "        [ 6.53164065e-01+0.00000000e+00j, -1.52150638e-01+9.76670628e-02j,\n",
       "          3.09238687e-02+1.45740705e-01j,  1.22410068e-03+1.39361150e-02j,\n",
       "         -5.45958248e-02+2.87343967e-02j,  3.14306640e-01-1.22931657e-02j,\n",
       "          3.66762629e-02+1.17634629e-02j, -1.30305227e-01-1.23191264e-02j,\n",
       "          6.29981162e-01-7.64981162e-03j],\n",
       "        [-1.31572165e-02-2.32566055e-02j, -3.12404641e-01+3.63919017e-09j,\n",
       "         -2.68516683e-02-3.13707906e-01j,  8.95183573e-01+0.00000000e+00j,\n",
       "         -1.08681300e-03-7.88614635e-03j, -2.03231934e-03+1.05465847e-02j,\n",
       "          8.87987911e-03-2.20845624e-02j, -1.99610791e-02-8.66687724e-04j,\n",
       "          7.58133882e-03+2.85010454e-04j],\n",
       "        [ 1.83721192e-02+7.56272628e-03j,  4.60940248e-02-1.15294312e-02j,\n",
       "          1.17729232e-02-8.15378012e-02j, -1.90217012e-02-3.32520655e-02j,\n",
       "          1.48016434e-02-1.54048936e-01j, -1.63906526e-03+2.83819212e-02j,\n",
       "          9.62797153e-01+0.00000000e+00j,  1.71510819e-01+8.85704157e-02j,\n",
       "          3.87432064e-03+8.98400890e-03j],\n",
       "        [-7.50457527e-03-4.62825281e-02j, -7.66234573e-02-9.08888979e-02j,\n",
       "         -1.28489542e-01+1.54633476e-01j,  4.50277119e-02+2.27044210e-02j,\n",
       "         -6.02994566e-01+9.77121697e-02j,  6.37442552e-02-1.54790560e-01j,\n",
       "         -7.73661112e-02+1.75965837e-01j,  7.08257411e-01+0.00000000e+00j,\n",
       "          2.95941429e-02+8.84168997e-03j],\n",
       "        [-2.34476737e-01-4.71242543e-03j,  2.48017649e-02-2.74470313e-02j,\n",
       "         -1.91244621e-02-2.64563645e-03j,  8.36596294e-03+1.17205311e-02j,\n",
       "          8.71922923e-02+1.79774811e-01j,  9.23629904e-01+0.00000000e+00j,\n",
       "          4.10635313e-02+1.08552155e-02j, -3.02794520e-02-2.40096967e-02j,\n",
       "         -2.16181374e-01-2.11086767e-03j],\n",
       "        [-4.69144443e-02-1.01464876e-01j,  5.97211896e-03-1.46617366e-01j,\n",
       "         -1.83878870e-01+4.45670931e-02j,  1.87871124e-02+1.12002113e-02j,\n",
       "          7.24508843e-01+0.00000000e+00j, -4.16404301e-03+1.05970282e-01j,\n",
       "         -1.09731044e-01-4.18371922e-02j,  5.57974075e-01+1.60999675e-02j,\n",
       "          2.61028770e-01-3.72526732e-03j]]))"
      ]
     },
     "execution_count": 60,
     "metadata": {},
     "output_type": "execute_result"
    }
   ],
   "source": [
    "from scipy.linalg import expm, eig, inv, solve\n",
    "import numpy as np\n",
    "\n",
    "val, V = eig(cg[0].U)\n",
    "\n",
    "# m = np.vstack([np.real(np.diag(inv(V)@c.U @ V)) for c in cg]).T\n",
    "p = np.linalg.lstsq(eigen_values, np.array([1,1,1,1,0,-1,-1,-1,-1]))[0]\n",
    "eig(sum([p[i] * cg[i].U for i in range(len(p))]))\n",
    "# M = expm(np.pi/2*1j*(cg[0].U + cg[2].U))*1j"
   ]
  },
  {
   "cell_type": "code",
   "execution_count": 92,
   "metadata": {},
   "outputs": [
    {
     "data": {
      "text/plain": [
       "array([ 1.,  1.,  1.,  1.,  1.,  1.,  1.,  1., -1., -1., -1., -1., -1.,\n",
       "       -1., -1., -1.])"
      ]
     },
     "execution_count": 92,
     "metadata": {},
     "output_type": "execute_result"
    }
   ],
   "source": [
    "m @ p "
   ]
  }
 ],
 "metadata": {
  "kernelspec": {
   "display_name": "tf-gpu",
   "language": "python",
   "name": "python3"
  },
  "language_info": {
   "codemirror_mode": {
    "name": "ipython",
    "version": 3
   },
   "file_extension": ".py",
   "mimetype": "text/x-python",
   "name": "python",
   "nbconvert_exporter": "python",
   "pygments_lexer": "ipython3",
   "version": "3.9.12"
  }
 },
 "nbformat": 4,
 "nbformat_minor": 2
}
